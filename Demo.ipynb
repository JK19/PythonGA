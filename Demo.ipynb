{
 "cells": [
  {
   "cell_type": "markdown",
   "metadata": {},
   "source": [
    "# Knapsack problem - Genetic algorithm demo"
   ]
  },
  {
   "cell_type": "markdown",
   "metadata": {},
   "source": [
    "### Knapsack problem solution using a simple genetic algorithm library"
   ]
  },
  {
   "cell_type": "markdown",
   "metadata": {},
   "source": [
    "For the demo we are going to play the role of a capitain of a cargo ship, the mighty S.S.Doodle."
   ]
  },
  {
   "cell_type": "markdown",
   "metadata": {},
   "source": [
    "<img src=\"img/ssdoodle.png\">"
   ]
  },
  {
   "cell_type": "markdown",
   "metadata": {},
   "source": [
    "(sorry for the over complicated boat schematic)"
   ]
  },
  {
   "cell_type": "markdown",
   "metadata": {},
   "source": [
    "In our demo, as capitain, we are in charge of balance of cargo. We have to choose which containers we ship depending on the weight and the value of their contents.\n",
    "The trick is that we have to keep the weigth below the maximum while maintaining the total value of the cargo as high as possible to make profit of the travel.\n",
    "This kind of problem is a combinatorial optimization problem called the Knapsack problem ([Wiki](https://en.wikipedia.org/wiki/Knapsack_problem))."
   ]
  },
  {
   "cell_type": "markdown",
   "metadata": {},
   "source": [
    "We are going to find a solution to this problem using a very simple genetic algorithm library."
   ]
  },
  {
   "cell_type": "markdown",
   "metadata": {},
   "source": [
    "Let's start defining an _elements_ dictionary with all the posible container types and a *MAX_WEIGHT* variable with the weight limit of our ship"
   ]
  },
  {
   "cell_type": "code",
   "execution_count": 1,
   "metadata": {},
   "outputs": [],
   "source": [
    "elements = {\n",
    "    \"A\": (3, 2),  # (price, weight)\n",
    "    \"B\": (10, 7),\n",
    "    \"C\": (23, 11),\n",
    "    \"Z\": (0, 0)  # we can leave a position empty if we want\n",
    "}\n",
    "MAX_WEIGHT = 315\n",
    "MAX_CONTAINERS = 30\n"
   ]
  },
  {
   "cell_type": "markdown",
   "metadata": {},
   "source": [
    "The *totalvalues* function will help us with the evaluation of the containers"
   ]
  },
  {
   "cell_type": "code",
   "execution_count": 2,
   "metadata": {},
   "outputs": [],
   "source": [
    "def totalvalues(x):\n",
    "    totalw, totalp = 0, 0\n",
    "    for container in x:\n",
    "        values = elements[container]\n",
    "        totalp += values[0] * values[1]  # price per weight\n",
    "        totalw += values[1]\n",
    "    return totalw, totalp"
   ]
  },
  {
   "cell_type": "markdown",
   "metadata": {},
   "source": [
    "Now we need a fitness function to tell how good a given cargo selection is."
   ]
  },
  {
   "cell_type": "code",
   "execution_count": 3,
   "metadata": {},
   "outputs": [],
   "source": [
    "def fitness(x):\n",
    "    totalw, totalp = totalvalues(x)  # sum of total weight and value of the cargo configuration\n",
    "    if totalw <= MAX_WEIGHT:  # if under max weight return it's value\n",
    "        return totalp * totalw  # multiply so the fitness scales linearly\n",
    "    else:  # return it's owerweight as negative value\n",
    "        ow = totalw - MAX_WEIGHT\n",
    "        return -ow"
   ]
  },
  {
   "cell_type": "markdown",
   "metadata": {},
   "source": [
    "We are ready to create a reactor that finds a solution for the cargo"
   ]
  },
  {
   "cell_type": "code",
   "execution_count": 4,
   "metadata": {},
   "outputs": [
    {
     "name": "stdout",
     "output_type": "stream",
     "text": [
      "[['Z', 'C', 'C', 'A', 'C', 'C', 'C', 'C', 'C', 'A', 'C', 'C', 'C', 'C', 'B', 'C', 'C', 'A', 'C', 'Z', 'C', 'C', 'C', 'C', 'C', 'C', 'C', 'C', 'C', 'C'], ['C', 'C', 'C', 'C', 'C', 'C', 'C', 'C', 'C', 'A', 'C', 'C', 'C', 'A', 'Z', 'C', 'C', 'C', 'B', 'C', 'C', 'C', 'Z', 'C', 'C', 'C', 'C', 'B', 'C', 'C'], ['C', 'C', 'B', 'C', 'C', 'C', 'B', 'Z', 'C', 'C', 'C', 'C', 'C', 'C', 'C', 'C', 'C', 'C', 'B', 'C', 'C', 'C', 'C', 'A', 'C', 'B', 'C', 'B', 'C', 'C'], ['C', 'C', 'B', 'C', 'B', 'C', 'B', 'C', 'C', 'C', 'C', 'C', 'B', 'C', 'Z', 'C', 'C', 'C', 'C', 'B', 'C', 'A', 'C', 'C', 'C', 'C', 'C', 'C', 'C', 'C']]\n"
     ]
    }
   ],
   "source": [
    "from reactor import Reactor\n",
    "\n",
    "solver = Reactor(\n",
    "    6,                      # number of configurations cycling inside the reactor\n",
    "    MAX_CONTAINERS,         # number of elements in the solution\n",
    "    list(elements.keys()),  # list with the representation of the containers\n",
    "    fitness,                # our fitness function\n",
    "    0.4,                    # probability of mutation inside the reactor\n",
    "    engine=\"thread\"         # we use threads because jupyter doesn't allow multiprocessing\n",
    ")\n",
    "\n",
    "solver.addCores(3)  # set reactor to compute 4 solutions in paralell\n",
    "solver.run(10000)  # cycles to run\n",
    "res = solver.get_results()  # wait for the results\n",
    "\n",
    "print(res)"
   ]
  },
  {
   "cell_type": "markdown",
   "metadata": {},
   "source": [
    "The results are lists with letters representing the containers, let's analise and show them on a clearer way."
   ]
  },
  {
   "cell_type": "code",
   "execution_count": 5,
   "metadata": {},
   "outputs": [
    {
     "name": "stdout",
     "output_type": "stream",
     "text": [
      "Solution 0:\n",
      "\tFitness: 1706320\n",
      "\tValues (W, P): (277, 6160)\n",
      "\t\t##### ##### ##### ##### #####\n",
      "\t\t# Z # # Z # # A # # A # # A #\n",
      "\t\t##### ##### ##### ##### #####\n",
      "\t\t##### ##### ##### ##### #####\n",
      "\t\t# B # # C # # C # # C # # C #\n",
      "\t\t##### ##### ##### ##### #####\n",
      "\t\t##### ##### ##### ##### #####\n",
      "\t\t# C # # C # # C # # C # # C #\n",
      "\t\t##### ##### ##### ##### #####\n",
      "\t\t##### ##### ##### ##### #####\n",
      "\t\t# C # # C # # C # # C # # C #\n",
      "\t\t##### ##### ##### ##### #####\n",
      "\t\t##### ##### ##### ##### #####\n",
      "\t\t# C # # C # # C # # C # # C #\n",
      "\t\t##### ##### ##### ##### #####\n",
      "\t\t##### ##### ##### ##### #####\n",
      "\t\t# C # # C # # C # # C # # C #\n",
      "\t\t##### ##### ##### ##### #####\n",
      "Solution 1:\n",
      "\tFitness: 1755168\n",
      "\tValues (W, P): (282, 6224)\n",
      "\t\t##### ##### ##### ##### #####\n",
      "\t\t# Z # # Z # # A # # A # # B #\n",
      "\t\t##### ##### ##### ##### #####\n",
      "\t\t##### ##### ##### ##### #####\n",
      "\t\t# B # # C # # C # # C # # C #\n",
      "\t\t##### ##### ##### ##### #####\n",
      "\t\t##### ##### ##### ##### #####\n",
      "\t\t# C # # C # # C # # C # # C #\n",
      "\t\t##### ##### ##### ##### #####\n",
      "\t\t##### ##### ##### ##### #####\n",
      "\t\t# C # # C # # C # # C # # C #\n",
      "\t\t##### ##### ##### ##### #####\n",
      "\t\t##### ##### ##### ##### #####\n",
      "\t\t# C # # C # # C # # C # # C #\n",
      "\t\t##### ##### ##### ##### #####\n",
      "\t\t##### ##### ##### ##### #####\n",
      "\t\t# C # # C # # C # # C # # C #\n",
      "\t\t##### ##### ##### ##### #####\n",
      "Solution 2:\n",
      "\tFitness: 1790750\n",
      "\tValues (W, P): (290, 6175)\n",
      "\t\t##### ##### ##### ##### #####\n",
      "\t\t# Z # # A # # B # # B # # B #\n",
      "\t\t##### ##### ##### ##### #####\n",
      "\t\t##### ##### ##### ##### #####\n",
      "\t\t# B # # B # # C # # C # # C #\n",
      "\t\t##### ##### ##### ##### #####\n",
      "\t\t##### ##### ##### ##### #####\n",
      "\t\t# C # # C # # C # # C # # C #\n",
      "\t\t##### ##### ##### ##### #####\n",
      "\t\t##### ##### ##### ##### #####\n",
      "\t\t# C # # C # # C # # C # # C #\n",
      "\t\t##### ##### ##### ##### #####\n",
      "\t\t##### ##### ##### ##### #####\n",
      "\t\t# C # # C # # C # # C # # C #\n",
      "\t\t##### ##### ##### ##### #####\n",
      "\t\t##### ##### ##### ##### #####\n",
      "\t\t# C # # C # # C # # C # # C #\n",
      "\t\t##### ##### ##### ##### #####\n",
      "Solution 3:\n",
      "\tFitness: 1790750\n",
      "\tValues (W, P): (290, 6175)\n",
      "\t\t##### ##### ##### ##### #####\n",
      "\t\t# Z # # A # # B # # B # # B #\n",
      "\t\t##### ##### ##### ##### #####\n",
      "\t\t##### ##### ##### ##### #####\n",
      "\t\t# B # # B # # C # # C # # C #\n",
      "\t\t##### ##### ##### ##### #####\n",
      "\t\t##### ##### ##### ##### #####\n",
      "\t\t# C # # C # # C # # C # # C #\n",
      "\t\t##### ##### ##### ##### #####\n",
      "\t\t##### ##### ##### ##### #####\n",
      "\t\t# C # # C # # C # # C # # C #\n",
      "\t\t##### ##### ##### ##### #####\n",
      "\t\t##### ##### ##### ##### #####\n",
      "\t\t# C # # C # # C # # C # # C #\n",
      "\t\t##### ##### ##### ##### #####\n",
      "\t\t##### ##### ##### ##### #####\n",
      "\t\t# C # # C # # C # # C # # C #\n",
      "\t\t##### ##### ##### ##### #####\n"
     ]
    }
   ],
   "source": [
    "for i in range(len(res)):\n",
    "        solution = res[i]\n",
    "        print(\"Solution {}:\".format(i))\n",
    "        print(\"\\tFitness: {}\".format(fitness(solution)))\n",
    "        print(\"\\tValues (W, P): {}\".format(totalvalues(solution)))\n",
    "        sortedRes = sorted(solution, key=lambda x: elements[x][1])  # sort by weight\n",
    "        for j in range(0, len(sortedRes), 5):\n",
    "            print(\"\\t\\t##### ##### ##### ##### #####\")\n",
    "            print(\"\\t\\t# {} # # {} # # {} # # {} # # {} #\".format(sortedRes[j], sortedRes[j+1], sortedRes[j+2], sortedRes[j+3], sortedRes[j+4]))\n",
    "            print(\"\\t\\t##### ##### ##### ##### #####\")"
   ]
  },
  {
   "cell_type": "markdown",
   "metadata": {},
   "source": [
    "As we can see the reactor outputs 4 solutions (one per core) to the problem. All are under the maximum weight limit, but some are better than the others depending on their total value. The better the cargo configuration, the higher the fitness value."
   ]
  }
 ],
 "metadata": {
  "kernelspec": {
   "display_name": "Python 3",
   "language": "python",
   "name": "python3"
  },
  "language_info": {
   "codemirror_mode": {
    "name": "ipython",
    "version": 3
   },
   "file_extension": ".py",
   "mimetype": "text/x-python",
   "name": "python",
   "nbconvert_exporter": "python",
   "pygments_lexer": "ipython3",
   "version": "3.5.2"
  }
 },
 "nbformat": 4,
 "nbformat_minor": 2
}
